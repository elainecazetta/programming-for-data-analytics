{
 "cells": [
  {
   "cell_type": "markdown",
   "id": "a9345aa2",
   "metadata": {},
   "source": [
    "# Assignment 3 domains"
   ]
  },
  {
   "cell_type": "markdown",
   "id": "504576bd",
   "metadata": {},
   "source": [
    "## Requirements: \n",
    "\n",
    "Create a notebook called 'assignment03-pie.ipynb'. The notebook should have a nice pie chart of people's email domains in the csv file [at the url](https://drive.google.com/uc?id=1AWPf-pJodJKeHsARQK_RHiNsE8fjPCVK&export=download). "
   ]
  },
  {
   "cell_type": "markdown",
   "id": "a44e9ee5",
   "metadata": {},
   "source": []
  },
  {
   "cell_type": "code",
   "execution_count": null,
   "id": "a597937a",
   "metadata": {},
   "outputs": [],
   "source": []
  }
 ],
 "metadata": {
  "kernelspec": {
   "display_name": "Python 3",
   "language": "python",
   "name": "python3"
  },
  "language_info": {
   "codemirror_mode": {
    "name": "ipython",
    "version": 3
   },
   "file_extension": ".py",
   "mimetype": "text/x-python",
   "name": "python",
   "nbconvert_exporter": "python",
   "pygments_lexer": "ipython3",
   "version": "3.12.1"
  }
 },
 "nbformat": 4,
 "nbformat_minor": 5
}
