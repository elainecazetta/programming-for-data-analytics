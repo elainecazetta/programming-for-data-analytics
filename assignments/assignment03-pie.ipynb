{
 "cells": [
  {
   "cell_type": "markdown",
   "id": "a9345aa2",
   "metadata": {},
   "source": [
    "# Assignment 3 - Domains\n",
    "\n",
    "#### Author: Elaine R. Cazetta\n",
    "Resources: OpenAI  "
   ]
  },
  {
   "cell_type": "markdown",
   "id": "504576bd",
   "metadata": {},
   "source": [
    "## - Requirements: \n",
    "\n",
    "Create a notebook called 'assignment03-pie.ipynb'. The notebook should have a nice pie chart of people's email domains in this csv file [available here](https://drive.google.com/uc?id=1AWPf-pJodJKeHsARQK_RHiNsE8fjPCVK&export=download). "
   ]
  },
  {
   "cell_type": "markdown",
   "id": "e6d4b439",
   "metadata": {},
   "source": [
    "## - Exploring the dataset:"
   ]
  },
  {
   "cell_type": "code",
   "execution_count": 1,
   "id": "a597937a",
   "metadata": {},
   "outputs": [],
   "source": [
    "# Importing pandas module:\n",
    "import pandas as pd"
   ]
  },
  {
   "cell_type": "code",
   "execution_count": 2,
   "id": "cdea4c2d",
   "metadata": {},
   "outputs": [],
   "source": [
    "# URL for downloading the dataset from Google Drive:\n",
    "url ='https://drive.google.com/uc?id=1AWPf-pJodJKeHsARQK_RHiNsE8fjPCVK&export=download'"
   ]
  },
  {
   "cell_type": "code",
   "execution_count": 3,
   "id": "79e2fbf6",
   "metadata": {},
   "outputs": [
    {
     "data": {
      "text/html": [
       "<div>\n",
       "<style scoped>\n",
       "    .dataframe tbody tr th:only-of-type {\n",
       "        vertical-align: middle;\n",
       "    }\n",
       "\n",
       "    .dataframe tbody tr th {\n",
       "        vertical-align: top;\n",
       "    }\n",
       "\n",
       "    .dataframe thead th {\n",
       "        text-align: right;\n",
       "    }\n",
       "</style>\n",
       "<table border=\"1\" class=\"dataframe\">\n",
       "  <thead>\n",
       "    <tr style=\"text-align: right;\">\n",
       "      <th></th>\n",
       "      <th>Index</th>\n",
       "      <th>User Id</th>\n",
       "      <th>First Name</th>\n",
       "      <th>Last Name</th>\n",
       "      <th>Sex</th>\n",
       "      <th>Email</th>\n",
       "      <th>Phone</th>\n",
       "      <th>Date of birth</th>\n",
       "      <th>Job Title</th>\n",
       "    </tr>\n",
       "  </thead>\n",
       "  <tbody>\n",
       "    <tr>\n",
       "      <th>0</th>\n",
       "      <td>1</td>\n",
       "      <td>8717bbf45cCDbEe</td>\n",
       "      <td>Shelia</td>\n",
       "      <td>Mahoney</td>\n",
       "      <td>Male</td>\n",
       "      <td>pwarner@example.org</td>\n",
       "      <td>857.139.8239</td>\n",
       "      <td>2014-01-27</td>\n",
       "      <td>Probation officer</td>\n",
       "    </tr>\n",
       "    <tr>\n",
       "      <th>1</th>\n",
       "      <td>2</td>\n",
       "      <td>3d5AD30A4cD38ed</td>\n",
       "      <td>Jo</td>\n",
       "      <td>Rivers</td>\n",
       "      <td>Female</td>\n",
       "      <td>fergusonkatherine@example.net</td>\n",
       "      <td>+1-950-759-8687</td>\n",
       "      <td>1931-07-26</td>\n",
       "      <td>Dancer</td>\n",
       "    </tr>\n",
       "    <tr>\n",
       "      <th>2</th>\n",
       "      <td>3</td>\n",
       "      <td>810Ce0F276Badec</td>\n",
       "      <td>Sheryl</td>\n",
       "      <td>Lowery</td>\n",
       "      <td>Female</td>\n",
       "      <td>fhoward@example.org</td>\n",
       "      <td>(599)782-0605</td>\n",
       "      <td>2013-11-25</td>\n",
       "      <td>Copy</td>\n",
       "    </tr>\n",
       "    <tr>\n",
       "      <th>3</th>\n",
       "      <td>4</td>\n",
       "      <td>BF2a889C00f0cE1</td>\n",
       "      <td>Whitney</td>\n",
       "      <td>Hooper</td>\n",
       "      <td>Male</td>\n",
       "      <td>zjohnston@example.com</td>\n",
       "      <td>+1-939-130-6258</td>\n",
       "      <td>2012-11-17</td>\n",
       "      <td>Counselling psychologist</td>\n",
       "    </tr>\n",
       "    <tr>\n",
       "      <th>4</th>\n",
       "      <td>5</td>\n",
       "      <td>9afFEafAe1CBBB9</td>\n",
       "      <td>Lindsey</td>\n",
       "      <td>Rice</td>\n",
       "      <td>Female</td>\n",
       "      <td>elin@example.net</td>\n",
       "      <td>(390)417-1635x3010</td>\n",
       "      <td>1923-04-15</td>\n",
       "      <td>Biomedical engineer</td>\n",
       "    </tr>\n",
       "  </tbody>\n",
       "</table>\n",
       "</div>"
      ],
      "text/plain": [
       "   Index          User Id First Name Last Name     Sex  \\\n",
       "0      1  8717bbf45cCDbEe     Shelia   Mahoney    Male   \n",
       "1      2  3d5AD30A4cD38ed         Jo    Rivers  Female   \n",
       "2      3  810Ce0F276Badec     Sheryl    Lowery  Female   \n",
       "3      4  BF2a889C00f0cE1    Whitney    Hooper    Male   \n",
       "4      5  9afFEafAe1CBBB9    Lindsey      Rice  Female   \n",
       "\n",
       "                           Email               Phone Date of birth  \\\n",
       "0            pwarner@example.org        857.139.8239    2014-01-27   \n",
       "1  fergusonkatherine@example.net     +1-950-759-8687    1931-07-26   \n",
       "2            fhoward@example.org       (599)782-0605    2013-11-25   \n",
       "3          zjohnston@example.com     +1-939-130-6258    2012-11-17   \n",
       "4               elin@example.net  (390)417-1635x3010    1923-04-15   \n",
       "\n",
       "                  Job Title  \n",
       "0         Probation officer  \n",
       "1                    Dancer  \n",
       "2                      Copy  \n",
       "3  Counselling psychologist  \n",
       "4       Biomedical engineer  "
      ]
     },
     "execution_count": 3,
     "metadata": {},
     "output_type": "execute_result"
    }
   ],
   "source": [
    "# Reading the dataset from the URL and storing it in a pandas DataFrame - source: https://pandas.pydata.org/docs/reference/api/pandas.read_csv.html#pandas.read_csv\n",
    "df = pd.read_csv(url)\n",
    "# Displaying the first 5 rows of the DataFrame\n",
    "df.head(5)"
   ]
  },
  {
   "cell_type": "code",
   "execution_count": 4,
   "id": "8cf647ab",
   "metadata": {},
   "outputs": [
    {
     "name": "stdout",
     "output_type": "stream",
     "text": [
      "0                pwarner@example.org\n",
      "1      fergusonkatherine@example.net\n",
      "2                fhoward@example.org\n",
      "3              zjohnston@example.com\n",
      "4                   elin@example.net\n",
      "                   ...              \n",
      "995           lyonsdaisy@example.net\n",
      "996          dariusbryan@example.com\n",
      "997           georgechan@example.org\n",
      "998              wanda04@example.net\n",
      "999          deannablack@example.org\n",
      "Name: Email, Length: 1000, dtype: object\n"
     ]
    }
   ],
   "source": [
    "# Selecting the 'Email' column from the DataFrame\n",
    "# Source: https://chatgpt.com/share/68f6909e-7be8-8007-aa36-8df343af74c4\n",
    "email = df['Email']\n",
    "# Printing the contents of the 'Email' column\n",
    "print(email)"
   ]
  },
  {
   "cell_type": "code",
   "execution_count": 5,
   "id": "03a5f484",
   "metadata": {},
   "outputs": [
    {
     "name": "stdout",
     "output_type": "stream",
     "text": [
      "0      example.org\n",
      "1      example.net\n",
      "2      example.org\n",
      "3      example.com\n",
      "4      example.net\n",
      "          ...     \n",
      "995    example.net\n",
      "996    example.com\n",
      "997    example.org\n",
      "998    example.net\n",
      "999    example.org\n",
      "Name: Email, Length: 1000, dtype: object\n"
     ]
    }
   ],
   "source": [
    "# Extracting email domains from the 'Email' column\n",
    "email_domains = email.str.split('@').str[1]\n",
    "\n",
    "# Displaying the domains\n",
    "print(email_domains)"
   ]
  },
  {
   "cell_type": "markdown",
   "id": "d77a82db",
   "metadata": {},
   "source": [
    "## - Creating the pie chart:"
   ]
  },
  {
   "cell_type": "code",
   "execution_count": 6,
   "id": "6f5c008c",
   "metadata": {},
   "outputs": [
    {
     "data": {
      "image/png": "[encoded data removed]",
      "text/plain": [
       "<Figure size 800x800 with 1 Axes>"
      ]
     },
     "metadata": {},
     "output_type": "display_data"
    }
   ],
   "source": [
    "# Creating the pie chart:\n",
    "\n",
    "# Importing matplotlib\n",
    "import matplotlib.pyplot as plt\n",
    "\n",
    "# Count how many times each domain appears\n",
    "domain_counts = email_domains.value_counts()\n",
    "\n",
    "# Create a pie chart\n",
    "plt.figure(figsize=(8, 8))\n",
    "plt.pie(domain_counts, labels=domain_counts.index, autopct='%1.1f%%', startangle=140)\n",
    "plt.title('Distribution of Email Domains')\n",
    "plt.show()"
   ]
  },
  {
   "cell_type": "markdown",
   "id": "05a1324a",
   "metadata": {},
   "source": [
    "## End"
   ]
  }
 ],
 "metadata": {
  "kernelspec": {
   "display_name": "Python 3",
   "language": "python",
   "name": "python3"
  },
  "language_info": {
   "codemirror_mode": {
    "name": "ipython",
    "version": 3
   },
   "file_extension": ".py",
   "mimetype": "text/x-python",
   "name": "python",
   "nbconvert_exporter": "python",
   "pygments_lexer": "ipython3",
   "version": "3.12.1"
  }
 },
 "nbformat": 4,
 "nbformat_minor": 5
}
