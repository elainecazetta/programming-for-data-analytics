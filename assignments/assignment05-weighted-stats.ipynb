{
 "cells": [
  {
   "cell_type": "markdown",
   "id": "b2227790",
   "metadata": {},
   "source": [
    "# Assignment 5 - Weighted Stats"
   ]
  },
  {
   "cell_type": "markdown",
   "id": "92485504",
   "metadata": {},
   "source": [
    "#### Author: Elaine R. Cazeta\n",
    "Resources: OpenAI"
   ]
  },
  {
   "cell_type": "markdown",
   "id": "58f6ec09",
   "metadata": {},
   "source": [
    "## Part 1\n",
    "Write a jupyter notebook that analyses the differences between the sexes by age in Ireland.\n",
    "\n",
    "- Weighted mean age (by sex)  \n",
    "- The difference between the sexes by age  \n",
    "- This part does not need to look at the regions  "
   ]
  },
  {
   "cell_type": "code",
   "execution_count": 1,
   "id": "509916e1",
   "metadata": {},
   "outputs": [],
   "source": [
    "# Importing pandas\n",
    "import pandas as pd"
   ]
  },
  {
   "cell_type": "code",
   "execution_count": 2,
   "id": "fd2b9ca8",
   "metadata": {},
   "outputs": [
    {
     "data": {
      "text/html": [
       "<div>\n",
       "<style scoped>\n",
       "    .dataframe tbody tr th:only-of-type {\n",
       "        vertical-align: middle;\n",
       "    }\n",
       "\n",
       "    .dataframe tbody tr th {\n",
       "        vertical-align: top;\n",
       "    }\n",
       "\n",
       "    .dataframe thead th {\n",
       "        text-align: right;\n",
       "    }\n",
       "</style>\n",
       "<table border=\"1\" class=\"dataframe\">\n",
       "  <thead>\n",
       "    <tr style=\"text-align: right;\">\n",
       "      <th></th>\n",
       "      <th>STATISTIC</th>\n",
       "      <th>Statistic Label</th>\n",
       "      <th>TLIST(A1)</th>\n",
       "      <th>CensusYear</th>\n",
       "      <th>C02199V02655</th>\n",
       "      <th>Sex</th>\n",
       "      <th>C02076V03371</th>\n",
       "      <th>Single Year of Age</th>\n",
       "      <th>C03789V04537</th>\n",
       "      <th>Administrative Counties</th>\n",
       "      <th>UNIT</th>\n",
       "      <th>VALUE</th>\n",
       "    </tr>\n",
       "  </thead>\n",
       "  <tbody>\n",
       "    <tr>\n",
       "      <th>0</th>\n",
       "      <td>FY006AC01</td>\n",
       "      <td>Population</td>\n",
       "      <td>2022</td>\n",
       "      <td>2022</td>\n",
       "      <td>-</td>\n",
       "      <td>Both sexes</td>\n",
       "      <td>-</td>\n",
       "      <td>All ages</td>\n",
       "      <td>IE0</td>\n",
       "      <td>Ireland</td>\n",
       "      <td>Number</td>\n",
       "      <td>5149139</td>\n",
       "    </tr>\n",
       "    <tr>\n",
       "      <th>1</th>\n",
       "      <td>FY006AC01</td>\n",
       "      <td>Population</td>\n",
       "      <td>2022</td>\n",
       "      <td>2022</td>\n",
       "      <td>-</td>\n",
       "      <td>Both sexes</td>\n",
       "      <td>-</td>\n",
       "      <td>All ages</td>\n",
       "      <td>2ae19629-1492-13a3-e055-000000000001</td>\n",
       "      <td>Carlow County Council</td>\n",
       "      <td>Number</td>\n",
       "      <td>61968</td>\n",
       "    </tr>\n",
       "    <tr>\n",
       "      <th>2</th>\n",
       "      <td>FY006AC01</td>\n",
       "      <td>Population</td>\n",
       "      <td>2022</td>\n",
       "      <td>2022</td>\n",
       "      <td>-</td>\n",
       "      <td>Both sexes</td>\n",
       "      <td>-</td>\n",
       "      <td>All ages</td>\n",
       "      <td>2ae19629-1433-13a3-e055-000000000001</td>\n",
       "      <td>Dublin City Council</td>\n",
       "      <td>Number</td>\n",
       "      <td>592713</td>\n",
       "    </tr>\n",
       "    <tr>\n",
       "      <th>3</th>\n",
       "      <td>FY006AC01</td>\n",
       "      <td>Population</td>\n",
       "      <td>2022</td>\n",
       "      <td>2022</td>\n",
       "      <td>-</td>\n",
       "      <td>Both sexes</td>\n",
       "      <td>-</td>\n",
       "      <td>All ages</td>\n",
       "      <td>2ae19629-149f-13a3-e055-000000000001</td>\n",
       "      <td>Dún Laoghaire Rathdown County Council</td>\n",
       "      <td>Number</td>\n",
       "      <td>233860</td>\n",
       "    </tr>\n",
       "    <tr>\n",
       "      <th>4</th>\n",
       "      <td>FY006AC01</td>\n",
       "      <td>Population</td>\n",
       "      <td>2022</td>\n",
       "      <td>2022</td>\n",
       "      <td>-</td>\n",
       "      <td>Both sexes</td>\n",
       "      <td>-</td>\n",
       "      <td>All ages</td>\n",
       "      <td>2ae19629-14a0-13a3-e055-000000000001</td>\n",
       "      <td>Fingal County Council</td>\n",
       "      <td>Number</td>\n",
       "      <td>330506</td>\n",
       "    </tr>\n",
       "  </tbody>\n",
       "</table>\n",
       "</div>"
      ],
      "text/plain": [
       "   STATISTIC Statistic Label  TLIST(A1)  CensusYear C02199V02655         Sex  \\\n",
       "0  FY006AC01      Population       2022        2022            -  Both sexes   \n",
       "1  FY006AC01      Population       2022        2022            -  Both sexes   \n",
       "2  FY006AC01      Population       2022        2022            -  Both sexes   \n",
       "3  FY006AC01      Population       2022        2022            -  Both sexes   \n",
       "4  FY006AC01      Population       2022        2022            -  Both sexes   \n",
       "\n",
       "  C02076V03371 Single Year of Age                          C03789V04537  \\\n",
       "0            -           All ages                                   IE0   \n",
       "1            -           All ages  2ae19629-1492-13a3-e055-000000000001   \n",
       "2            -           All ages  2ae19629-1433-13a3-e055-000000000001   \n",
       "3            -           All ages  2ae19629-149f-13a3-e055-000000000001   \n",
       "4            -           All ages  2ae19629-14a0-13a3-e055-000000000001   \n",
       "\n",
       "                 Administrative Counties    UNIT    VALUE  \n",
       "0                                Ireland  Number  5149139  \n",
       "1                  Carlow County Council  Number    61968  \n",
       "2                    Dublin City Council  Number   592713  \n",
       "3  Dún Laoghaire Rathdown County Council  Number   233860  \n",
       "4                  Fingal County Council  Number   330506  "
      ]
     },
     "execution_count": 2,
     "metadata": {},
     "output_type": "execute_result"
    }
   ],
   "source": [
    "# Importing the csv file\n",
    "url = \"https://ws.cso.ie/public/api.restful/PxStat.Data.Cube_API.ReadDataset/FY006A/CSV/1.0/en\"\n",
    "df = pd.read_csv(url)\n",
    "df.head(5) # Visualizing first five rows"
   ]
  },
  {
   "cell_type": "code",
   "execution_count": 3,
   "id": "2e6c6055",
   "metadata": {},
   "outputs": [
    {
     "data": {
      "text/html": [
       "<div>\n",
       "<style scoped>\n",
       "    .dataframe tbody tr th:only-of-type {\n",
       "        vertical-align: middle;\n",
       "    }\n",
       "\n",
       "    .dataframe tbody tr th {\n",
       "        vertical-align: top;\n",
       "    }\n",
       "\n",
       "    .dataframe thead th {\n",
       "        text-align: right;\n",
       "    }\n",
       "</style>\n",
       "<table border=\"1\" class=\"dataframe\">\n",
       "  <thead>\n",
       "    <tr style=\"text-align: right;\">\n",
       "      <th></th>\n",
       "      <th>STATISTIC</th>\n",
       "      <th>Statistic Label</th>\n",
       "      <th>TLIST(A1)</th>\n",
       "      <th>CensusYear</th>\n",
       "      <th>C02199V02655</th>\n",
       "      <th>Sex</th>\n",
       "      <th>C02076V03371</th>\n",
       "      <th>Single Year of Age</th>\n",
       "      <th>C03789V04537</th>\n",
       "      <th>Administrative Counties</th>\n",
       "      <th>UNIT</th>\n",
       "      <th>VALUE</th>\n",
       "    </tr>\n",
       "  </thead>\n",
       "  <tbody>\n",
       "    <tr>\n",
       "      <th>3296</th>\n",
       "      <td>FY006AC01</td>\n",
       "      <td>Population</td>\n",
       "      <td>2022</td>\n",
       "      <td>2022</td>\n",
       "      <td>1</td>\n",
       "      <td>Male</td>\n",
       "      <td>200</td>\n",
       "      <td>Under 1 year</td>\n",
       "      <td>IE0</td>\n",
       "      <td>Ireland</td>\n",
       "      <td>Number</td>\n",
       "      <td>29610</td>\n",
       "    </tr>\n",
       "    <tr>\n",
       "      <th>3297</th>\n",
       "      <td>FY006AC01</td>\n",
       "      <td>Population</td>\n",
       "      <td>2022</td>\n",
       "      <td>2022</td>\n",
       "      <td>1</td>\n",
       "      <td>Male</td>\n",
       "      <td>200</td>\n",
       "      <td>Under 1 year</td>\n",
       "      <td>2ae19629-1492-13a3-e055-000000000001</td>\n",
       "      <td>Carlow County Council</td>\n",
       "      <td>Number</td>\n",
       "      <td>346</td>\n",
       "    </tr>\n",
       "    <tr>\n",
       "      <th>3298</th>\n",
       "      <td>FY006AC01</td>\n",
       "      <td>Population</td>\n",
       "      <td>2022</td>\n",
       "      <td>2022</td>\n",
       "      <td>1</td>\n",
       "      <td>Male</td>\n",
       "      <td>200</td>\n",
       "      <td>Under 1 year</td>\n",
       "      <td>2ae19629-1433-13a3-e055-000000000001</td>\n",
       "      <td>Dublin City Council</td>\n",
       "      <td>Number</td>\n",
       "      <td>3188</td>\n",
       "    </tr>\n",
       "    <tr>\n",
       "      <th>3299</th>\n",
       "      <td>FY006AC01</td>\n",
       "      <td>Population</td>\n",
       "      <td>2022</td>\n",
       "      <td>2022</td>\n",
       "      <td>1</td>\n",
       "      <td>Male</td>\n",
       "      <td>200</td>\n",
       "      <td>Under 1 year</td>\n",
       "      <td>2ae19629-149f-13a3-e055-000000000001</td>\n",
       "      <td>Dún Laoghaire Rathdown County Council</td>\n",
       "      <td>Number</td>\n",
       "      <td>1269</td>\n",
       "    </tr>\n",
       "    <tr>\n",
       "      <th>3300</th>\n",
       "      <td>FY006AC01</td>\n",
       "      <td>Population</td>\n",
       "      <td>2022</td>\n",
       "      <td>2022</td>\n",
       "      <td>1</td>\n",
       "      <td>Male</td>\n",
       "      <td>200</td>\n",
       "      <td>Under 1 year</td>\n",
       "      <td>2ae19629-14a0-13a3-e055-000000000001</td>\n",
       "      <td>Fingal County Council</td>\n",
       "      <td>Number</td>\n",
       "      <td>2059</td>\n",
       "    </tr>\n",
       "  </tbody>\n",
       "</table>\n",
       "</div>"
      ],
      "text/plain": [
       "      STATISTIC Statistic Label  TLIST(A1)  CensusYear C02199V02655   Sex  \\\n",
       "3296  FY006AC01      Population       2022        2022            1  Male   \n",
       "3297  FY006AC01      Population       2022        2022            1  Male   \n",
       "3298  FY006AC01      Population       2022        2022            1  Male   \n",
       "3299  FY006AC01      Population       2022        2022            1  Male   \n",
       "3300  FY006AC01      Population       2022        2022            1  Male   \n",
       "\n",
       "     C02076V03371 Single Year of Age                          C03789V04537  \\\n",
       "3296          200       Under 1 year                                   IE0   \n",
       "3297          200       Under 1 year  2ae19629-1492-13a3-e055-000000000001   \n",
       "3298          200       Under 1 year  2ae19629-1433-13a3-e055-000000000001   \n",
       "3299          200       Under 1 year  2ae19629-149f-13a3-e055-000000000001   \n",
       "3300          200       Under 1 year  2ae19629-14a0-13a3-e055-000000000001   \n",
       "\n",
       "                    Administrative Counties    UNIT  VALUE  \n",
       "3296                                Ireland  Number  29610  \n",
       "3297                  Carlow County Council  Number    346  \n",
       "3298                    Dublin City Council  Number   3188  \n",
       "3299  Dún Laoghaire Rathdown County Council  Number   1269  \n",
       "3300                  Fingal County Council  Number   2059  "
      ]
     },
     "execution_count": 3,
     "metadata": {},
     "output_type": "execute_result"
    }
   ],
   "source": [
    "# Removing data related to 'Both sexes' and 'All ages' \n",
    "df = df[df[\"Sex\"] != \"Both sexes\"]\n",
    "df = df[df[\"Single Year of Age\"] != \"All ages\"]\n",
    "df.head(5)"
   ]
  },
  {
   "cell_type": "code",
   "execution_count": 4,
   "id": "0169b98f",
   "metadata": {},
   "outputs": [
    {
     "data": {
      "text/plain": [
       "['STATISTIC',\n",
       " 'Statistic Label',\n",
       " 'TLIST(A1)',\n",
       " 'CensusYear',\n",
       " 'C02199V02655',\n",
       " 'Sex',\n",
       " 'C02076V03371',\n",
       " 'Single Year of Age',\n",
       " 'C03789V04537',\n",
       " 'Administrative Counties',\n",
       " 'UNIT',\n",
       " 'VALUE']"
      ]
     },
     "execution_count": 4,
     "metadata": {},
     "output_type": "execute_result"
    }
   ],
   "source": [
    "# Get a list of all column names in the dataset to understand its structure\n",
    "headers = df.columns.tolist()\n",
    "headers"
   ]
  },
  {
   "cell_type": "code",
   "execution_count": null,
   "id": "194cbe60",
   "metadata": {},
   "outputs": [
    {
     "name": "stdout",
     "output_type": "stream",
     "text": [
      "       Sex Single Year of Age                Administrative Counties  VALUE\n",
      "3296  Male                  0                                Ireland  29610\n",
      "3297  Male                  0                  Carlow County Council    346\n",
      "3298  Male                  0                    Dublin City Council   3188\n",
      "3299  Male                  0  Dún Laoghaire Rathdown County Council   1269\n",
      "3300  Male                  0                  Fingal County Council   2059\n"
     ]
    }
   ],
   "source": [
    "# Drop columns that are not needed for the analysis\n",
    "drop_col_list = ['STATISTIC', 'Statistic Label','TLIST(A1)','CensusYear','C02199V02655','C02076V03371','C03789V04537','UNIT']\n",
    "df.drop(columns=drop_col_list,inplace=True)\n",
    "\n",
    "# On 'Single Year of Age' column, convert text to numbers and remove any non-numeric characters\n",
    "df['Single Year of Age'] = df['Single Year of Age'].str.replace('Under 1 year', '0')\n",
    "df['Single Year of Age'] = df['Single Year of Age'].str.replace(r'\\D', '', regex=True)\n",
    "print (df.head(5))\n"
   ]
  },
  {
   "cell_type": "code",
   "execution_count": 6,
   "id": "a4194643",
   "metadata": {},
   "outputs": [
    {
     "name": "stdout",
     "output_type": "stream",
     "text": [
      "<class 'pandas.core.frame.DataFrame'>\n",
      "Index: 6464 entries, 3296 to 9791\n",
      "Data columns (total 4 columns):\n",
      " #   Column                   Non-Null Count  Dtype \n",
      "---  ------                   --------------  ----- \n",
      " 0   Sex                      6464 non-null   object\n",
      " 1   Single Year of Age       6464 non-null   int64 \n",
      " 2   Administrative Counties  6464 non-null   object\n",
      " 3   VALUE                    6464 non-null   int64 \n",
      "dtypes: int64(2), object(2)\n",
      "memory usage: 252.5+ KB\n"
     ]
    }
   ],
   "source": [
    "# Convert the 'Single Year of Age' and 'VALUE' columns to integers\n",
    "df['Single Year of Age']=df['Single Year of Age'].astype('int64')\n",
    "df['VALUE']=df['VALUE'].astype('int64')\n",
    "df.info() # Check the dataframe structure and data types"
   ]
  },
  {
   "cell_type": "code",
   "execution_count": 7,
   "id": "430abb41",
   "metadata": {},
   "outputs": [
    {
     "data": {
      "text/html": [
       "<div>\n",
       "<style scoped>\n",
       "    .dataframe tbody tr th:only-of-type {\n",
       "        vertical-align: middle;\n",
       "    }\n",
       "\n",
       "    .dataframe tbody tr th {\n",
       "        vertical-align: top;\n",
       "    }\n",
       "\n",
       "    .dataframe thead th {\n",
       "        text-align: right;\n",
       "    }\n",
       "</style>\n",
       "<table border=\"1\" class=\"dataframe\">\n",
       "  <thead>\n",
       "    <tr style=\"text-align: right;\">\n",
       "      <th>Sex</th>\n",
       "      <th>Female</th>\n",
       "      <th>Male</th>\n",
       "    </tr>\n",
       "    <tr>\n",
       "      <th>Single Year of Age</th>\n",
       "      <th></th>\n",
       "      <th></th>\n",
       "    </tr>\n",
       "  </thead>\n",
       "  <tbody>\n",
       "    <tr>\n",
       "      <th>0</th>\n",
       "      <td>56372</td>\n",
       "      <td>59220</td>\n",
       "    </tr>\n",
       "    <tr>\n",
       "      <th>1</th>\n",
       "      <td>55090</td>\n",
       "      <td>57750</td>\n",
       "    </tr>\n",
       "    <tr>\n",
       "      <th>2</th>\n",
       "      <td>57948</td>\n",
       "      <td>60472</td>\n",
       "    </tr>\n",
       "    <tr>\n",
       "      <th>3</th>\n",
       "      <td>58966</td>\n",
       "      <td>62002</td>\n",
       "    </tr>\n",
       "    <tr>\n",
       "      <th>4</th>\n",
       "      <td>59638</td>\n",
       "      <td>63372</td>\n",
       "    </tr>\n",
       "  </tbody>\n",
       "</table>\n",
       "</div>"
      ],
      "text/plain": [
       "Sex                 Female   Male\n",
       "Single Year of Age               \n",
       "0                    56372  59220\n",
       "1                    55090  57750\n",
       "2                    57948  60472\n",
       "3                    58966  62002\n",
       "4                    59638  63372"
      ]
     },
     "execution_count": 7,
     "metadata": {},
     "output_type": "execute_result"
    }
   ],
   "source": [
    "# Create a pivot table to show the total population (VALUE) by age and sex\n",
    "# Each row represents an age, and columns show totals for males and females\n",
    "df_anal = pd.pivot_table(df, values='VALUE', index='Single Year of Age', columns='Sex', aggfunc='sum')\n",
    "df_anal.head()"
   ]
  },
  {
   "cell_type": "code",
   "execution_count": 8,
   "id": "bce497e9",
   "metadata": {},
   "outputs": [
    {
     "name": "stdout",
     "output_type": "stream",
     "text": [
      "Weighted Mean Age - Male: 37.74\n",
      "Weighted Mean Age - Female: 38.94\n",
      "Difference: -1.2\n"
     ]
    }
   ],
   "source": [
    "# Calculate the weighted mean age for each sex\n",
    "# (multiply each age by its population count, sum the results, then divide by the total population)\n",
    "weighted_mean_male = (df[df[\"Sex\"]==\"Male\"][\"Single Year of Age\"] * df[df[\"Sex\"]==\"Male\"][\"VALUE\"]).sum() / df[df[\"Sex\"]==\"Male\"][\"VALUE\"].sum()\n",
    "weighted_mean_female = (df[df[\"Sex\"]==\"Female\"][\"Single Year of Age\"] * df[df[\"Sex\"]==\"Female\"][\"VALUE\"]).sum() / df[df[\"Sex\"]==\"Female\"][\"VALUE\"].sum()\n",
    "\n",
    "print(\"Weighted Mean Age - Male:\", round(weighted_mean_male, 2))\n",
    "print(\"Weighted Mean Age - Female:\", round(weighted_mean_female, 2))\n",
    "print(\"Difference:\", round(weighted_mean_male - weighted_mean_female, 2))"
   ]
  },
  {
   "cell_type": "markdown",
   "id": "1290b0e4",
   "metadata": {},
   "source": [
    "## Part 2\n",
    "In the same notebook, make a variable that stores an age (say 35).  \n",
    "\n",
    "Write that code that would group the people within 5 years of that age together, into one age group.   \n",
    "\n",
    "Calculate the population difference between the sexes in that age group.  "
   ]
  },
  {
   "cell_type": "code",
   "execution_count": 9,
   "id": "5d36f046",
   "metadata": {},
   "outputs": [],
   "source": [
    "# Target age\n",
    "age = 35"
   ]
  },
  {
   "cell_type": "code",
   "execution_count": 10,
   "id": "973372df",
   "metadata": {},
   "outputs": [],
   "source": [
    "# Filter the dataset to include people within ±5 years of the chosen age\n",
    "age_group = df[(df[\"Single Year of Age\"] >= age - 5) & (df[\"Single Year of Age\"] <= age + 5)]"
   ]
  },
  {
   "cell_type": "code",
   "execution_count": 11,
   "id": "27e83df6",
   "metadata": {},
   "outputs": [],
   "source": [
    "# Sum total population of males and females in that age group\n",
    "group_pivot = pd.pivot_table(age_group, values='VALUE', index='Sex', aggfunc='sum')"
   ]
  },
  {
   "cell_type": "code",
   "execution_count": 12,
   "id": "ab490c7a",
   "metadata": {},
   "outputs": [],
   "source": [
    "# Extract values\n",
    "male_total = group_pivot.loc[\"Male\", \"VALUE\"]\n",
    "female_total = group_pivot.loc[\"Female\", \"VALUE\"]"
   ]
  },
  {
   "cell_type": "code",
   "execution_count": 13,
   "id": "4af57e43",
   "metadata": {},
   "outputs": [
    {
     "name": "stdout",
     "output_type": "stream",
     "text": [
      "Total males (age 30-40): 768060\n",
      "Total females (age 30-40): 829012\n",
      "Population difference (Male - Female): -60952\n"
     ]
    }
   ],
   "source": [
    "# Calculate and print results\n",
    "difference = male_total - female_total\n",
    "print(f\"Total males (age {age-5}-{age+5}): {male_total}\")\n",
    "print(f\"Total females (age {age-5}-{age+5}): {female_total}\")\n",
    "print(f\"Population difference (Male - Female): {difference}\")"
   ]
  },
  {
   "cell_type": "markdown",
   "id": "9b001ae5",
   "metadata": {},
   "source": [
    "## Part 3\n",
    "In the same notebook, write the code that would work out which region in Ireland has the biggest population difference between the sexes in that age group.  "
   ]
  },
  {
   "cell_type": "code",
   "execution_count": 14,
   "id": "3d563cea",
   "metadata": {},
   "outputs": [],
   "source": [
    "# Group by region and sex to get total population by region for that age range\n",
    "region_group = pd.pivot_table(age_group, values='VALUE', \n",
    "                              index=['Administrative Counties', 'Sex'], \n",
    "                              aggfunc='sum').unstack()\n"
   ]
  },
  {
   "cell_type": "code",
   "execution_count": 15,
   "id": "be497f96",
   "metadata": {},
   "outputs": [],
   "source": [
    "# Calculate the difference between males and females in each region\n",
    "region_group[\"Difference\"] = region_group[\"VALUE\"][\"Male\"] - region_group[\"VALUE\"][\"Female\"]\n"
   ]
  },
  {
   "cell_type": "code",
   "execution_count": 16,
   "id": "7ab11894",
   "metadata": {},
   "outputs": [],
   "source": [
    "# Sort to find which region has the largest difference\n",
    "region_group_sorted = region_group.sort_values(by=\"Difference\", ascending=False)"
   ]
  },
  {
   "cell_type": "code",
   "execution_count": null,
   "id": "4cad6bb6",
   "metadata": {},
   "outputs": [
    {
     "name": "stdout",
     "output_type": "stream",
     "text": [
      "Region with the largest population difference between sexes:\n",
      "                         VALUE        Difference\n",
      "Sex                     Female   Male           \n",
      "Administrative Counties                         \n",
      "Dublin City Council      59831  60867       1036\n"
     ]
    }
   ],
   "source": [
    "# Display the region with the biggest difference\n",
    "largest_diff_region = region_group_sorted.head(1)\n",
    "print(\"Region with the largest population difference:\")\n",
    "print(largest_diff_region)"
   ]
  },
  {
   "cell_type": "markdown",
   "id": "b3767abb",
   "metadata": {},
   "source": [
    "# End"
   ]
  }
 ],
 "metadata": {
  "kernelspec": {
   "display_name": "Python 3",
   "language": "python",
   "name": "python3"
  },
  "language_info": {
   "codemirror_mode": {
    "name": "ipython",
    "version": 3
   },
   "file_extension": ".py",
   "mimetype": "text/x-python",
   "name": "python",
   "nbconvert_exporter": "python",
   "pygments_lexer": "ipython3",
   "version": "3.12.1"
  }
 },
 "nbformat": 4,
 "nbformat_minor": 5
}
