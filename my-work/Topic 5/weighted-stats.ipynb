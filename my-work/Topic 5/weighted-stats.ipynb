{
 "cells": [
  {
   "cell_type": "markdown",
   "id": "b2227790",
   "metadata": {},
   "source": [
    "## Weighted Stats"
   ]
  },
  {
   "cell_type": "markdown",
   "id": "92485504",
   "metadata": {},
   "source": [
    "- This notebook is made in the Programming for Data Analytics lecture on weighted descriptive statistics.\n",
    "- Author: Andrew Beatty\n",
    "- Reproduced by: Elaine R. Cazeta"
   ]
  },
  {
   "cell_type": "code",
   "execution_count": 1,
   "id": "509916e1",
   "metadata": {},
   "outputs": [],
   "source": [
    "import pandas as pd"
   ]
  },
  {
   "cell_type": "code",
   "execution_count": 2,
   "id": "fd2b9ca8",
   "metadata": {},
   "outputs": [
    {
     "data": {
      "text/html": [
       "<div>\n",
       "<style scoped>\n",
       "    .dataframe tbody tr th:only-of-type {\n",
       "        vertical-align: middle;\n",
       "    }\n",
       "\n",
       "    .dataframe tbody tr th {\n",
       "        vertical-align: top;\n",
       "    }\n",
       "\n",
       "    .dataframe thead th {\n",
       "        text-align: right;\n",
       "    }\n",
       "</style>\n",
       "<table border=\"1\" class=\"dataframe\">\n",
       "  <thead>\n",
       "    <tr style=\"text-align: right;\">\n",
       "      <th></th>\n",
       "      <th>STATISTIC</th>\n",
       "      <th>Statistic Label</th>\n",
       "      <th>TLIST(A1)</th>\n",
       "      <th>CensusYear</th>\n",
       "      <th>C02199V02655</th>\n",
       "      <th>Sex</th>\n",
       "      <th>C02076V03371</th>\n",
       "      <th>Single Year of Age</th>\n",
       "      <th>C03789V04537</th>\n",
       "      <th>Administrative Counties</th>\n",
       "      <th>UNIT</th>\n",
       "      <th>VALUE</th>\n",
       "    </tr>\n",
       "  </thead>\n",
       "  <tbody>\n",
       "    <tr>\n",
       "      <th>9789</th>\n",
       "      <td>FY006AC01</td>\n",
       "      <td>Population</td>\n",
       "      <td>2022</td>\n",
       "      <td>2022</td>\n",
       "      <td>2</td>\n",
       "      <td>Female</td>\n",
       "      <td>650</td>\n",
       "      <td>100 years and over</td>\n",
       "      <td>2ae19629-149d-13a3-e055-000000000001</td>\n",
       "      <td>Cavan County Council</td>\n",
       "      <td>Number</td>\n",
       "      <td>12</td>\n",
       "    </tr>\n",
       "    <tr>\n",
       "      <th>9790</th>\n",
       "      <td>FY006AC01</td>\n",
       "      <td>Population</td>\n",
       "      <td>2022</td>\n",
       "      <td>2022</td>\n",
       "      <td>2</td>\n",
       "      <td>Female</td>\n",
       "      <td>650</td>\n",
       "      <td>100 years and over</td>\n",
       "      <td>2ae19629-14a4-13a3-e055-000000000001</td>\n",
       "      <td>Donegal County Council</td>\n",
       "      <td>Number</td>\n",
       "      <td>31</td>\n",
       "    </tr>\n",
       "    <tr>\n",
       "      <th>9791</th>\n",
       "      <td>FY006AC01</td>\n",
       "      <td>Population</td>\n",
       "      <td>2022</td>\n",
       "      <td>2022</td>\n",
       "      <td>2</td>\n",
       "      <td>Female</td>\n",
       "      <td>650</td>\n",
       "      <td>100 years and over</td>\n",
       "      <td>2ae19629-1495-13a3-e055-000000000001</td>\n",
       "      <td>Monaghan County Council</td>\n",
       "      <td>Number</td>\n",
       "      <td>7</td>\n",
       "    </tr>\n",
       "  </tbody>\n",
       "</table>\n",
       "</div>"
      ],
      "text/plain": [
       "      STATISTIC Statistic Label  TLIST(A1)  CensusYear C02199V02655     Sex  \\\n",
       "9789  FY006AC01      Population       2022        2022            2  Female   \n",
       "9790  FY006AC01      Population       2022        2022            2  Female   \n",
       "9791  FY006AC01      Population       2022        2022            2  Female   \n",
       "\n",
       "     C02076V03371  Single Year of Age                          C03789V04537  \\\n",
       "9789          650  100 years and over  2ae19629-149d-13a3-e055-000000000001   \n",
       "9790          650  100 years and over  2ae19629-14a4-13a3-e055-000000000001   \n",
       "9791          650  100 years and over  2ae19629-1495-13a3-e055-000000000001   \n",
       "\n",
       "      Administrative Counties    UNIT  VALUE  \n",
       "9789     Cavan County Council  Number     12  \n",
       "9790   Donegal County Council  Number     31  \n",
       "9791  Monaghan County Council  Number      7  "
      ]
     },
     "execution_count": 2,
     "metadata": {},
     "output_type": "execute_result"
    }
   ],
   "source": [
    "url = \"https://ws.cso.ie/public/api.restful/PxStat.Data.Cube_API.ReadDataset/FY006A/CSV/1.0/en\"\n",
    "df = pd.read_csv(url)\n",
    "df.tail(3)"
   ]
  },
  {
   "cell_type": "code",
   "execution_count": null,
   "id": "2e6c6055",
   "metadata": {},
   "outputs": [],
   "source": []
  }
 ],
 "metadata": {
  "kernelspec": {
   "display_name": "Python 3",
   "language": "python",
   "name": "python3"
  },
  "language_info": {
   "codemirror_mode": {
    "name": "ipython",
    "version": 3
   },
   "file_extension": ".py",
   "mimetype": "text/x-python",
   "name": "python",
   "nbconvert_exporter": "python",
   "pygments_lexer": "ipython3",
   "version": "3.12.1"
  }
 },
 "nbformat": 4,
 "nbformat_minor": 5
}
