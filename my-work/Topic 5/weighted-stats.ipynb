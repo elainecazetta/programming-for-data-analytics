{
 "cells": [
  {
   "cell_type": "markdown",
   "id": "b2227790",
   "metadata": {},
   "source": [
    "## Weighted Stats"
   ]
  },
  {
   "cell_type": "markdown",
   "id": "92485504",
   "metadata": {},
   "source": [
    "- This notebook is made in the Programming for Data Analytics lecture on weighted descriptive statistics.\n",
    "- Author: Andrew Beatty\n",
    "- Reproduced by: Elaine R. Cazeta"
   ]
  },
  {
   "cell_type": "markdown",
   "id": "509916e1",
   "metadata": {},
   "source": []
  }
 ],
 "metadata": {
  "language_info": {
   "name": "python"
  }
 },
 "nbformat": 4,
 "nbformat_minor": 5
}
