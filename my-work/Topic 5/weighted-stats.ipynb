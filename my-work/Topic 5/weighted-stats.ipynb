{
 "cells": [
  {
   "cell_type": "markdown",
   "id": "b2227790",
   "metadata": {},
   "source": [
    "# Weighted Stats"
   ]
  },
  {
   "cell_type": "markdown",
   "id": "92485504",
   "metadata": {},
   "source": [
    "- This notebook is made in the Programming for Data Analytics lecture on weighted descriptive statistics.\n",
    "- Author: Andrew Beatty\n",
    "- Reproduced by: Elaine R. Cazeta"
   ]
  },
  {
   "cell_type": "code",
   "execution_count": 42,
   "id": "509916e1",
   "metadata": {},
   "outputs": [],
   "source": [
    "import pandas as pd"
   ]
  },
  {
   "cell_type": "code",
   "execution_count": 43,
   "id": "fd2b9ca8",
   "metadata": {},
   "outputs": [
    {
     "data": {
      "text/html": [
       "<div>\n",
       "<style scoped>\n",
       "    .dataframe tbody tr th:only-of-type {\n",
       "        vertical-align: middle;\n",
       "    }\n",
       "\n",
       "    .dataframe tbody tr th {\n",
       "        vertical-align: top;\n",
       "    }\n",
       "\n",
       "    .dataframe thead th {\n",
       "        text-align: right;\n",
       "    }\n",
       "</style>\n",
       "<table border=\"1\" class=\"dataframe\">\n",
       "  <thead>\n",
       "    <tr style=\"text-align: right;\">\n",
       "      <th></th>\n",
       "      <th>STATISTIC</th>\n",
       "      <th>Statistic Label</th>\n",
       "      <th>TLIST(A1)</th>\n",
       "      <th>CensusYear</th>\n",
       "      <th>C02199V02655</th>\n",
       "      <th>Sex</th>\n",
       "      <th>C02076V03371</th>\n",
       "      <th>Single Year of Age</th>\n",
       "      <th>C03789V04537</th>\n",
       "      <th>Administrative Counties</th>\n",
       "      <th>UNIT</th>\n",
       "      <th>VALUE</th>\n",
       "    </tr>\n",
       "  </thead>\n",
       "  <tbody>\n",
       "    <tr>\n",
       "      <th>9789</th>\n",
       "      <td>FY006AC01</td>\n",
       "      <td>Population</td>\n",
       "      <td>2022</td>\n",
       "      <td>2022</td>\n",
       "      <td>2</td>\n",
       "      <td>Female</td>\n",
       "      <td>650</td>\n",
       "      <td>100 years and over</td>\n",
       "      <td>2ae19629-149d-13a3-e055-000000000001</td>\n",
       "      <td>Cavan County Council</td>\n",
       "      <td>Number</td>\n",
       "      <td>12</td>\n",
       "    </tr>\n",
       "    <tr>\n",
       "      <th>9790</th>\n",
       "      <td>FY006AC01</td>\n",
       "      <td>Population</td>\n",
       "      <td>2022</td>\n",
       "      <td>2022</td>\n",
       "      <td>2</td>\n",
       "      <td>Female</td>\n",
       "      <td>650</td>\n",
       "      <td>100 years and over</td>\n",
       "      <td>2ae19629-14a4-13a3-e055-000000000001</td>\n",
       "      <td>Donegal County Council</td>\n",
       "      <td>Number</td>\n",
       "      <td>31</td>\n",
       "    </tr>\n",
       "    <tr>\n",
       "      <th>9791</th>\n",
       "      <td>FY006AC01</td>\n",
       "      <td>Population</td>\n",
       "      <td>2022</td>\n",
       "      <td>2022</td>\n",
       "      <td>2</td>\n",
       "      <td>Female</td>\n",
       "      <td>650</td>\n",
       "      <td>100 years and over</td>\n",
       "      <td>2ae19629-1495-13a3-e055-000000000001</td>\n",
       "      <td>Monaghan County Council</td>\n",
       "      <td>Number</td>\n",
       "      <td>7</td>\n",
       "    </tr>\n",
       "  </tbody>\n",
       "</table>\n",
       "</div>"
      ],
      "text/plain": [
       "      STATISTIC Statistic Label  TLIST(A1)  CensusYear C02199V02655     Sex  \\\n",
       "9789  FY006AC01      Population       2022        2022            2  Female   \n",
       "9790  FY006AC01      Population       2022        2022            2  Female   \n",
       "9791  FY006AC01      Population       2022        2022            2  Female   \n",
       "\n",
       "     C02076V03371  Single Year of Age                          C03789V04537  \\\n",
       "9789          650  100 years and over  2ae19629-149d-13a3-e055-000000000001   \n",
       "9790          650  100 years and over  2ae19629-14a4-13a3-e055-000000000001   \n",
       "9791          650  100 years and over  2ae19629-1495-13a3-e055-000000000001   \n",
       "\n",
       "      Administrative Counties    UNIT  VALUE  \n",
       "9789     Cavan County Council  Number     12  \n",
       "9790   Donegal County Council  Number     31  \n",
       "9791  Monaghan County Council  Number      7  "
      ]
     },
     "execution_count": 43,
     "metadata": {},
     "output_type": "execute_result"
    }
   ],
   "source": [
    "url = \"https://ws.cso.ie/public/api.restful/PxStat.Data.Cube_API.ReadDataset/FY006A/CSV/1.0/en\"\n",
    "df = pd.read_csv(url)\n",
    "df.tail(3)"
   ]
  },
  {
   "cell_type": "code",
   "execution_count": 44,
   "id": "2e6c6055",
   "metadata": {},
   "outputs": [
    {
     "data": {
      "text/html": [
       "<div>\n",
       "<style scoped>\n",
       "    .dataframe tbody tr th:only-of-type {\n",
       "        vertical-align: middle;\n",
       "    }\n",
       "\n",
       "    .dataframe tbody tr th {\n",
       "        vertical-align: top;\n",
       "    }\n",
       "\n",
       "    .dataframe thead th {\n",
       "        text-align: right;\n",
       "    }\n",
       "</style>\n",
       "<table border=\"1\" class=\"dataframe\">\n",
       "  <thead>\n",
       "    <tr style=\"text-align: right;\">\n",
       "      <th></th>\n",
       "      <th>STATISTIC</th>\n",
       "      <th>Statistic Label</th>\n",
       "      <th>TLIST(A1)</th>\n",
       "      <th>CensusYear</th>\n",
       "      <th>C02199V02655</th>\n",
       "      <th>Sex</th>\n",
       "      <th>C02076V03371</th>\n",
       "      <th>Single Year of Age</th>\n",
       "      <th>C03789V04537</th>\n",
       "      <th>Administrative Counties</th>\n",
       "      <th>UNIT</th>\n",
       "      <th>VALUE</th>\n",
       "    </tr>\n",
       "  </thead>\n",
       "  <tbody>\n",
       "    <tr>\n",
       "      <th>3261</th>\n",
       "      <td>FY006AC01</td>\n",
       "      <td>Population</td>\n",
       "      <td>2022</td>\n",
       "      <td>2022</td>\n",
       "      <td>-</td>\n",
       "      <td>Both sexes</td>\n",
       "      <td>650</td>\n",
       "      <td>100 years and over</td>\n",
       "      <td>2ae19629-149d-13a3-e055-000000000001</td>\n",
       "      <td>Cavan County Council</td>\n",
       "      <td>Number</td>\n",
       "      <td>18</td>\n",
       "    </tr>\n",
       "    <tr>\n",
       "      <th>3262</th>\n",
       "      <td>FY006AC01</td>\n",
       "      <td>Population</td>\n",
       "      <td>2022</td>\n",
       "      <td>2022</td>\n",
       "      <td>-</td>\n",
       "      <td>Both sexes</td>\n",
       "      <td>650</td>\n",
       "      <td>100 years and over</td>\n",
       "      <td>2ae19629-14a4-13a3-e055-000000000001</td>\n",
       "      <td>Donegal County Council</td>\n",
       "      <td>Number</td>\n",
       "      <td>33</td>\n",
       "    </tr>\n",
       "    <tr>\n",
       "      <th>3263</th>\n",
       "      <td>FY006AC01</td>\n",
       "      <td>Population</td>\n",
       "      <td>2022</td>\n",
       "      <td>2022</td>\n",
       "      <td>-</td>\n",
       "      <td>Both sexes</td>\n",
       "      <td>650</td>\n",
       "      <td>100 years and over</td>\n",
       "      <td>2ae19629-1495-13a3-e055-000000000001</td>\n",
       "      <td>Monaghan County Council</td>\n",
       "      <td>Number</td>\n",
       "      <td>8</td>\n",
       "    </tr>\n",
       "  </tbody>\n",
       "</table>\n",
       "</div>"
      ],
      "text/plain": [
       "      STATISTIC Statistic Label  TLIST(A1)  CensusYear C02199V02655  \\\n",
       "3261  FY006AC01      Population       2022        2022            -   \n",
       "3262  FY006AC01      Population       2022        2022            -   \n",
       "3263  FY006AC01      Population       2022        2022            -   \n",
       "\n",
       "             Sex C02076V03371  Single Year of Age  \\\n",
       "3261  Both sexes          650  100 years and over   \n",
       "3262  Both sexes          650  100 years and over   \n",
       "3263  Both sexes          650  100 years and over   \n",
       "\n",
       "                              C03789V04537  Administrative Counties    UNIT  \\\n",
       "3261  2ae19629-149d-13a3-e055-000000000001     Cavan County Council  Number   \n",
       "3262  2ae19629-14a4-13a3-e055-000000000001   Donegal County Council  Number   \n",
       "3263  2ae19629-1495-13a3-e055-000000000001  Monaghan County Council  Number   \n",
       "\n",
       "      VALUE  \n",
       "3261     18  \n",
       "3262     33  \n",
       "3263      8  "
      ]
     },
     "execution_count": 44,
     "metadata": {},
     "output_type": "execute_result"
    }
   ],
   "source": [
    "df = df[df[\"Sex\"] != \"Female\"]\n",
    "df = df[df[\"Sex\"] != \"Male\"]\n",
    "df.tail(3)"
   ]
  },
  {
   "cell_type": "code",
   "execution_count": 45,
   "id": "0169b98f",
   "metadata": {},
   "outputs": [
    {
     "data": {
      "text/plain": [
       "['STATISTIC',\n",
       " 'Statistic Label',\n",
       " 'TLIST(A1)',\n",
       " 'CensusYear',\n",
       " 'C02199V02655',\n",
       " 'Sex',\n",
       " 'C02076V03371',\n",
       " 'Single Year of Age',\n",
       " 'C03789V04537',\n",
       " 'Administrative Counties',\n",
       " 'UNIT',\n",
       " 'VALUE']"
      ]
     },
     "execution_count": 45,
     "metadata": {},
     "output_type": "execute_result"
    }
   ],
   "source": [
    "headers = df.columns.tolist()\n",
    "headers"
   ]
  },
  {
   "cell_type": "code",
   "execution_count": 46,
   "id": "194cbe60",
   "metadata": {},
   "outputs": [
    {
     "name": "stdout",
     "output_type": "stream",
     "text": [
      "<class 'pandas.core.frame.DataFrame'>\n",
      "Index: 3232 entries, 32 to 3263\n",
      "Data columns (total 3 columns):\n",
      " #   Column                   Non-Null Count  Dtype \n",
      "---  ------                   --------------  ----- \n",
      " 0   Single Year of Age       3232 non-null   int64 \n",
      " 1   Administrative Counties  3232 non-null   object\n",
      " 2   VALUE                    3232 non-null   int64 \n",
      "dtypes: int64(2), object(1)\n",
      "memory usage: 101.0+ KB\n"
     ]
    }
   ],
   "source": [
    "drop_col_list = ['STATISTIC', 'Statistic Label','TLIST(A1)','CensusYear','C02199V02655','Sex','C02076V03371','C03789V04537','UNIT']\n",
    "df.drop(columns=drop_col_list,inplace=True)\n",
    "df = df[df[\"Single Year of Age\"] != \"All ages\"]\n",
    "df['Single Year of Age'] = df['Single Year of Age'].str.replace('Under 1 year', '0')\n",
    "df['Single Year of Age'] = df['Single Year of Age'].str.replace(r'\\D', '', regex=True)\n",
    "\n",
    "df['Single Year of Age']=df['Single Year of Age'].astype('int64')\n",
    "df['VALUE']=df['VALUE'].astype('int64')\n",
    "#print (df.head(3))\n",
    "df.info()"
   ]
  },
  {
   "cell_type": "code",
   "execution_count": 47,
   "id": "430abb41",
   "metadata": {},
   "outputs": [
    {
     "name": "stdout",
     "output_type": "stream",
     "text": [
      "Administrative Counties  Carlow County Council  Cavan County Council  \\\n",
      "Single Year of Age                                                     \n",
      "0                                        699.0                1006.0   \n",
      "1                                        649.0                1004.0   \n",
      "2                                        689.0                1061.0   \n",
      "\n",
      "Administrative Counties  Clare County Council  Cork City Council  \\\n",
      "Single Year of Age                                                 \n",
      "0                                      1377.0             2283.0   \n",
      "1                                      1360.0             2284.0   \n",
      "2                                      1473.0             2306.0   \n",
      "\n",
      "Administrative Counties  Cork County Council  Donegal County Council  \\\n",
      "Single Year of Age                                                     \n",
      "0                                     4190.0                  1797.0   \n",
      "1                                     4115.0                  1881.0   \n",
      "2                                     4290.0                  1971.0   \n",
      "\n",
      "Administrative Counties  Dublin City Council  \\\n",
      "Single Year of Age                             \n",
      "0                                     6213.0   \n",
      "1                                     5699.0   \n",
      "2                                     5830.0   \n",
      "\n",
      "Administrative Counties  Dún Laoghaire Rathdown County Council  \\\n",
      "Single Year of Age                                               \n",
      "0                                                       2457.0   \n",
      "1                                                       2437.0   \n",
      "2                                                       2489.0   \n",
      "\n",
      "Administrative Counties  Fingal County Council  Galway City Council  ...  \\\n",
      "Single Year of Age                                                   ...   \n",
      "0                                       4009.0                792.0  ...   \n",
      "1                                       3894.0                757.0  ...   \n",
      "2                                       4308.0                792.0  ...   \n",
      "\n",
      "Administrative Counties  Monaghan County Council  Offaly County Council  \\\n",
      "Single Year of Age                                                        \n",
      "0                                          868.0                  935.0   \n",
      "1                                          821.0                  937.0   \n",
      "2                                          870.0                  945.0   \n",
      "\n",
      "Administrative Counties  Roscommon County Council  Sligo County Council  \\\n",
      "Single Year of Age                                                        \n",
      "0                                           748.0                 743.0   \n",
      "1                                           764.0                 766.0   \n",
      "2                                           893.0                 764.0   \n",
      "\n",
      "Administrative Counties  South Dublin County Council  \\\n",
      "Single Year of Age                                     \n",
      "0                                             3544.0   \n",
      "1                                             3673.0   \n",
      "2                                             3734.0   \n",
      "\n",
      "Administrative Counties  Tipperary County Council  \\\n",
      "Single Year of Age                                  \n",
      "0                                          1932.0   \n",
      "1                                          1808.0   \n",
      "2                                          1836.0   \n",
      "\n",
      "Administrative Counties  Waterford City & County Council  \\\n",
      "Single Year of Age                                         \n",
      "0                                                 1340.0   \n",
      "1                                                 1266.0   \n",
      "2                                                 1329.0   \n",
      "\n",
      "Administrative Counties  Westmeath County Council  Wexford County Council  \\\n",
      "Single Year of Age                                                          \n",
      "0                                          1129.0                  1792.0   \n",
      "1                                          1158.0                  1724.0   \n",
      "2                                          1108.0                  1835.0   \n",
      "\n",
      "Administrative Counties  Wicklow County Council  \n",
      "Single Year of Age                               \n",
      "0                                        1710.0  \n",
      "1                                        1682.0  \n",
      "2                                        1796.0  \n",
      "\n",
      "[3 rows x 32 columns]\n"
     ]
    }
   ],
   "source": [
    "df_anal = pd.pivot_table(df, 'VALUE',\"Single Year of Age\",\"Administrative Counties\")\n",
    "print (df_anal.head(3))\n",
    "# write out the entire file to local machine\n",
    "df_anal.to_csv(\"population_for_analysis.csv\")"
   ]
  },
  {
   "cell_type": "markdown",
   "id": "96d2b22f",
   "metadata": {},
   "source": [
    "### Weighted descriptive statistics"
   ]
  },
  {
   "cell_type": "code",
   "execution_count": 48,
   "id": "dfc4bf3f",
   "metadata": {},
   "outputs": [
    {
     "data": {
      "text/plain": [
       "'Carlow County Council'"
      ]
     },
     "execution_count": 48,
     "metadata": {},
     "output_type": "execute_result"
    }
   ],
   "source": [
    "headers = list(df_anal.columns)\n",
    "district = headers[0]\n",
    "district"
   ]
  },
  {
   "cell_type": "markdown",
   "id": "5202e693",
   "metadata": {},
   "source": [
    "Weighted mean is sum (age * population at age) / sum (populations at age)."
   ]
  },
  {
   "cell_type": "code",
   "execution_count": 49,
   "id": "c46ef5e4",
   "metadata": {},
   "outputs": [
    {
     "data": {
      "text/plain": [
       "np.float64(61968.0)"
      ]
     },
     "execution_count": 49,
     "metadata": {},
     "output_type": "execute_result"
    }
   ],
   "source": [
    "number_people = df_anal[district].sum()\n",
    "number_people"
   ]
  },
  {
   "cell_type": "code",
   "execution_count": 50,
   "id": "bf836138",
   "metadata": {},
   "outputs": [
    {
     "data": {
      "text/html": [
       "<div>\n",
       "<style scoped>\n",
       "    .dataframe tbody tr th:only-of-type {\n",
       "        vertical-align: middle;\n",
       "    }\n",
       "\n",
       "    .dataframe tbody tr th {\n",
       "        vertical-align: top;\n",
       "    }\n",
       "\n",
       "    .dataframe thead th {\n",
       "        text-align: right;\n",
       "    }\n",
       "</style>\n",
       "<table border=\"1\" class=\"dataframe\">\n",
       "  <thead>\n",
       "    <tr style=\"text-align: right;\">\n",
       "      <th>Administrative Counties</th>\n",
       "      <th>Carlow County Council</th>\n",
       "      <th>Cavan County Council</th>\n",
       "      <th>Clare County Council</th>\n",
       "      <th>Cork City Council</th>\n",
       "      <th>Cork County Council</th>\n",
       "      <th>Donegal County Council</th>\n",
       "      <th>Dublin City Council</th>\n",
       "      <th>Dún Laoghaire Rathdown County Council</th>\n",
       "      <th>Fingal County Council</th>\n",
       "      <th>Galway City Council</th>\n",
       "      <th>...</th>\n",
       "      <th>Monaghan County Council</th>\n",
       "      <th>Offaly County Council</th>\n",
       "      <th>Roscommon County Council</th>\n",
       "      <th>Sligo County Council</th>\n",
       "      <th>South Dublin County Council</th>\n",
       "      <th>Tipperary County Council</th>\n",
       "      <th>Waterford City &amp; County Council</th>\n",
       "      <th>Westmeath County Council</th>\n",
       "      <th>Wexford County Council</th>\n",
       "      <th>Wicklow County Council</th>\n",
       "    </tr>\n",
       "    <tr>\n",
       "      <th>Single Year of Age</th>\n",
       "      <th></th>\n",
       "      <th></th>\n",
       "      <th></th>\n",
       "      <th></th>\n",
       "      <th></th>\n",
       "      <th></th>\n",
       "      <th></th>\n",
       "      <th></th>\n",
       "      <th></th>\n",
       "      <th></th>\n",
       "      <th></th>\n",
       "      <th></th>\n",
       "      <th></th>\n",
       "      <th></th>\n",
       "      <th></th>\n",
       "      <th></th>\n",
       "      <th></th>\n",
       "      <th></th>\n",
       "      <th></th>\n",
       "      <th></th>\n",
       "      <th></th>\n",
       "    </tr>\n",
       "  </thead>\n",
       "  <tbody>\n",
       "    <tr>\n",
       "      <th>0</th>\n",
       "      <td>699.0</td>\n",
       "      <td>1006.0</td>\n",
       "      <td>1377.0</td>\n",
       "      <td>2283.0</td>\n",
       "      <td>4190.0</td>\n",
       "      <td>1797.0</td>\n",
       "      <td>6213.0</td>\n",
       "      <td>2457.0</td>\n",
       "      <td>4009.0</td>\n",
       "      <td>792.0</td>\n",
       "      <td>...</td>\n",
       "      <td>868.0</td>\n",
       "      <td>935.0</td>\n",
       "      <td>748.0</td>\n",
       "      <td>743.0</td>\n",
       "      <td>3544.0</td>\n",
       "      <td>1932.0</td>\n",
       "      <td>1340.0</td>\n",
       "      <td>1129.0</td>\n",
       "      <td>1792.0</td>\n",
       "      <td>1710.0</td>\n",
       "    </tr>\n",
       "    <tr>\n",
       "      <th>1</th>\n",
       "      <td>649.0</td>\n",
       "      <td>1004.0</td>\n",
       "      <td>1360.0</td>\n",
       "      <td>2284.0</td>\n",
       "      <td>4115.0</td>\n",
       "      <td>1881.0</td>\n",
       "      <td>5699.0</td>\n",
       "      <td>2437.0</td>\n",
       "      <td>3894.0</td>\n",
       "      <td>757.0</td>\n",
       "      <td>...</td>\n",
       "      <td>821.0</td>\n",
       "      <td>937.0</td>\n",
       "      <td>764.0</td>\n",
       "      <td>766.0</td>\n",
       "      <td>3673.0</td>\n",
       "      <td>1808.0</td>\n",
       "      <td>1266.0</td>\n",
       "      <td>1158.0</td>\n",
       "      <td>1724.0</td>\n",
       "      <td>1682.0</td>\n",
       "    </tr>\n",
       "    <tr>\n",
       "      <th>2</th>\n",
       "      <td>689.0</td>\n",
       "      <td>1061.0</td>\n",
       "      <td>1473.0</td>\n",
       "      <td>2306.0</td>\n",
       "      <td>4290.0</td>\n",
       "      <td>1971.0</td>\n",
       "      <td>5830.0</td>\n",
       "      <td>2489.0</td>\n",
       "      <td>4308.0</td>\n",
       "      <td>792.0</td>\n",
       "      <td>...</td>\n",
       "      <td>870.0</td>\n",
       "      <td>945.0</td>\n",
       "      <td>893.0</td>\n",
       "      <td>764.0</td>\n",
       "      <td>3734.0</td>\n",
       "      <td>1836.0</td>\n",
       "      <td>1329.0</td>\n",
       "      <td>1108.0</td>\n",
       "      <td>1835.0</td>\n",
       "      <td>1796.0</td>\n",
       "    </tr>\n",
       "    <tr>\n",
       "      <th>3</th>\n",
       "      <td>754.0</td>\n",
       "      <td>1085.0</td>\n",
       "      <td>1468.0</td>\n",
       "      <td>2294.0</td>\n",
       "      <td>4437.0</td>\n",
       "      <td>2074.0</td>\n",
       "      <td>5580.0</td>\n",
       "      <td>2613.0</td>\n",
       "      <td>4384.0</td>\n",
       "      <td>799.0</td>\n",
       "      <td>...</td>\n",
       "      <td>900.0</td>\n",
       "      <td>1009.0</td>\n",
       "      <td>859.0</td>\n",
       "      <td>825.0</td>\n",
       "      <td>3856.0</td>\n",
       "      <td>2048.0</td>\n",
       "      <td>1476.0</td>\n",
       "      <td>1148.0</td>\n",
       "      <td>1864.0</td>\n",
       "      <td>1862.0</td>\n",
       "    </tr>\n",
       "    <tr>\n",
       "      <th>4</th>\n",
       "      <td>745.0</td>\n",
       "      <td>1047.0</td>\n",
       "      <td>1505.0</td>\n",
       "      <td>2243.0</td>\n",
       "      <td>4620.0</td>\n",
       "      <td>2089.0</td>\n",
       "      <td>5624.0</td>\n",
       "      <td>2658.0</td>\n",
       "      <td>4422.0</td>\n",
       "      <td>830.0</td>\n",
       "      <td>...</td>\n",
       "      <td>873.0</td>\n",
       "      <td>1007.0</td>\n",
       "      <td>833.0</td>\n",
       "      <td>820.0</td>\n",
       "      <td>3870.0</td>\n",
       "      <td>2072.0</td>\n",
       "      <td>1390.0</td>\n",
       "      <td>1208.0</td>\n",
       "      <td>1941.0</td>\n",
       "      <td>1897.0</td>\n",
       "    </tr>\n",
       "    <tr>\n",
       "      <th>...</th>\n",
       "      <td>...</td>\n",
       "      <td>...</td>\n",
       "      <td>...</td>\n",
       "      <td>...</td>\n",
       "      <td>...</td>\n",
       "      <td>...</td>\n",
       "      <td>...</td>\n",
       "      <td>...</td>\n",
       "      <td>...</td>\n",
       "      <td>...</td>\n",
       "      <td>...</td>\n",
       "      <td>...</td>\n",
       "      <td>...</td>\n",
       "      <td>...</td>\n",
       "      <td>...</td>\n",
       "      <td>...</td>\n",
       "      <td>...</td>\n",
       "      <td>...</td>\n",
       "      <td>...</td>\n",
       "      <td>...</td>\n",
       "      <td>...</td>\n",
       "    </tr>\n",
       "    <tr>\n",
       "      <th>96</th>\n",
       "      <td>11.0</td>\n",
       "      <td>23.0</td>\n",
       "      <td>40.0</td>\n",
       "      <td>54.0</td>\n",
       "      <td>84.0</td>\n",
       "      <td>48.0</td>\n",
       "      <td>200.0</td>\n",
       "      <td>95.0</td>\n",
       "      <td>48.0</td>\n",
       "      <td>19.0</td>\n",
       "      <td>...</td>\n",
       "      <td>17.0</td>\n",
       "      <td>19.0</td>\n",
       "      <td>28.0</td>\n",
       "      <td>21.0</td>\n",
       "      <td>41.0</td>\n",
       "      <td>41.0</td>\n",
       "      <td>26.0</td>\n",
       "      <td>24.0</td>\n",
       "      <td>42.0</td>\n",
       "      <td>38.0</td>\n",
       "    </tr>\n",
       "    <tr>\n",
       "      <th>97</th>\n",
       "      <td>11.0</td>\n",
       "      <td>13.0</td>\n",
       "      <td>31.0</td>\n",
       "      <td>39.0</td>\n",
       "      <td>65.0</td>\n",
       "      <td>27.0</td>\n",
       "      <td>115.0</td>\n",
       "      <td>57.0</td>\n",
       "      <td>51.0</td>\n",
       "      <td>12.0</td>\n",
       "      <td>...</td>\n",
       "      <td>9.0</td>\n",
       "      <td>16.0</td>\n",
       "      <td>13.0</td>\n",
       "      <td>22.0</td>\n",
       "      <td>38.0</td>\n",
       "      <td>33.0</td>\n",
       "      <td>20.0</td>\n",
       "      <td>23.0</td>\n",
       "      <td>37.0</td>\n",
       "      <td>25.0</td>\n",
       "    </tr>\n",
       "    <tr>\n",
       "      <th>98</th>\n",
       "      <td>7.0</td>\n",
       "      <td>8.0</td>\n",
       "      <td>15.0</td>\n",
       "      <td>23.0</td>\n",
       "      <td>47.0</td>\n",
       "      <td>15.0</td>\n",
       "      <td>81.0</td>\n",
       "      <td>45.0</td>\n",
       "      <td>21.0</td>\n",
       "      <td>15.0</td>\n",
       "      <td>...</td>\n",
       "      <td>11.0</td>\n",
       "      <td>8.0</td>\n",
       "      <td>7.0</td>\n",
       "      <td>12.0</td>\n",
       "      <td>17.0</td>\n",
       "      <td>21.0</td>\n",
       "      <td>17.0</td>\n",
       "      <td>11.0</td>\n",
       "      <td>22.0</td>\n",
       "      <td>16.0</td>\n",
       "    </tr>\n",
       "    <tr>\n",
       "      <th>99</th>\n",
       "      <td>7.0</td>\n",
       "      <td>6.0</td>\n",
       "      <td>14.0</td>\n",
       "      <td>24.0</td>\n",
       "      <td>25.0</td>\n",
       "      <td>18.0</td>\n",
       "      <td>64.0</td>\n",
       "      <td>32.0</td>\n",
       "      <td>22.0</td>\n",
       "      <td>4.0</td>\n",
       "      <td>...</td>\n",
       "      <td>5.0</td>\n",
       "      <td>4.0</td>\n",
       "      <td>9.0</td>\n",
       "      <td>10.0</td>\n",
       "      <td>17.0</td>\n",
       "      <td>10.0</td>\n",
       "      <td>19.0</td>\n",
       "      <td>6.0</td>\n",
       "      <td>21.0</td>\n",
       "      <td>8.0</td>\n",
       "    </tr>\n",
       "    <tr>\n",
       "      <th>100</th>\n",
       "      <td>3.0</td>\n",
       "      <td>18.0</td>\n",
       "      <td>19.0</td>\n",
       "      <td>26.0</td>\n",
       "      <td>54.0</td>\n",
       "      <td>33.0</td>\n",
       "      <td>100.0</td>\n",
       "      <td>55.0</td>\n",
       "      <td>21.0</td>\n",
       "      <td>8.0</td>\n",
       "      <td>...</td>\n",
       "      <td>8.0</td>\n",
       "      <td>5.0</td>\n",
       "      <td>12.0</td>\n",
       "      <td>12.0</td>\n",
       "      <td>36.0</td>\n",
       "      <td>23.0</td>\n",
       "      <td>19.0</td>\n",
       "      <td>12.0</td>\n",
       "      <td>16.0</td>\n",
       "      <td>18.0</td>\n",
       "    </tr>\n",
       "  </tbody>\n",
       "</table>\n",
       "<p>101 rows × 32 columns</p>\n",
       "</div>"
      ],
      "text/plain": [
       "Administrative Counties  Carlow County Council  Cavan County Council  \\\n",
       "Single Year of Age                                                     \n",
       "0                                        699.0                1006.0   \n",
       "1                                        649.0                1004.0   \n",
       "2                                        689.0                1061.0   \n",
       "3                                        754.0                1085.0   \n",
       "4                                        745.0                1047.0   \n",
       "...                                        ...                   ...   \n",
       "96                                        11.0                  23.0   \n",
       "97                                        11.0                  13.0   \n",
       "98                                         7.0                   8.0   \n",
       "99                                         7.0                   6.0   \n",
       "100                                        3.0                  18.0   \n",
       "\n",
       "Administrative Counties  Clare County Council  Cork City Council  \\\n",
       "Single Year of Age                                                 \n",
       "0                                      1377.0             2283.0   \n",
       "1                                      1360.0             2284.0   \n",
       "2                                      1473.0             2306.0   \n",
       "3                                      1468.0             2294.0   \n",
       "4                                      1505.0             2243.0   \n",
       "...                                       ...                ...   \n",
       "96                                       40.0               54.0   \n",
       "97                                       31.0               39.0   \n",
       "98                                       15.0               23.0   \n",
       "99                                       14.0               24.0   \n",
       "100                                      19.0               26.0   \n",
       "\n",
       "Administrative Counties  Cork County Council  Donegal County Council  \\\n",
       "Single Year of Age                                                     \n",
       "0                                     4190.0                  1797.0   \n",
       "1                                     4115.0                  1881.0   \n",
       "2                                     4290.0                  1971.0   \n",
       "3                                     4437.0                  2074.0   \n",
       "4                                     4620.0                  2089.0   \n",
       "...                                      ...                     ...   \n",
       "96                                      84.0                    48.0   \n",
       "97                                      65.0                    27.0   \n",
       "98                                      47.0                    15.0   \n",
       "99                                      25.0                    18.0   \n",
       "100                                     54.0                    33.0   \n",
       "\n",
       "Administrative Counties  Dublin City Council  \\\n",
       "Single Year of Age                             \n",
       "0                                     6213.0   \n",
       "1                                     5699.0   \n",
       "2                                     5830.0   \n",
       "3                                     5580.0   \n",
       "4                                     5624.0   \n",
       "...                                      ...   \n",
       "96                                     200.0   \n",
       "97                                     115.0   \n",
       "98                                      81.0   \n",
       "99                                      64.0   \n",
       "100                                    100.0   \n",
       "\n",
       "Administrative Counties  Dún Laoghaire Rathdown County Council  \\\n",
       "Single Year of Age                                               \n",
       "0                                                       2457.0   \n",
       "1                                                       2437.0   \n",
       "2                                                       2489.0   \n",
       "3                                                       2613.0   \n",
       "4                                                       2658.0   \n",
       "...                                                        ...   \n",
       "96                                                        95.0   \n",
       "97                                                        57.0   \n",
       "98                                                        45.0   \n",
       "99                                                        32.0   \n",
       "100                                                       55.0   \n",
       "\n",
       "Administrative Counties  Fingal County Council  Galway City Council  ...  \\\n",
       "Single Year of Age                                                   ...   \n",
       "0                                       4009.0                792.0  ...   \n",
       "1                                       3894.0                757.0  ...   \n",
       "2                                       4308.0                792.0  ...   \n",
       "3                                       4384.0                799.0  ...   \n",
       "4                                       4422.0                830.0  ...   \n",
       "...                                        ...                  ...  ...   \n",
       "96                                        48.0                 19.0  ...   \n",
       "97                                        51.0                 12.0  ...   \n",
       "98                                        21.0                 15.0  ...   \n",
       "99                                        22.0                  4.0  ...   \n",
       "100                                       21.0                  8.0  ...   \n",
       "\n",
       "Administrative Counties  Monaghan County Council  Offaly County Council  \\\n",
       "Single Year of Age                                                        \n",
       "0                                          868.0                  935.0   \n",
       "1                                          821.0                  937.0   \n",
       "2                                          870.0                  945.0   \n",
       "3                                          900.0                 1009.0   \n",
       "4                                          873.0                 1007.0   \n",
       "...                                          ...                    ...   \n",
       "96                                          17.0                   19.0   \n",
       "97                                           9.0                   16.0   \n",
       "98                                          11.0                    8.0   \n",
       "99                                           5.0                    4.0   \n",
       "100                                          8.0                    5.0   \n",
       "\n",
       "Administrative Counties  Roscommon County Council  Sligo County Council  \\\n",
       "Single Year of Age                                                        \n",
       "0                                           748.0                 743.0   \n",
       "1                                           764.0                 766.0   \n",
       "2                                           893.0                 764.0   \n",
       "3                                           859.0                 825.0   \n",
       "4                                           833.0                 820.0   \n",
       "...                                           ...                   ...   \n",
       "96                                           28.0                  21.0   \n",
       "97                                           13.0                  22.0   \n",
       "98                                            7.0                  12.0   \n",
       "99                                            9.0                  10.0   \n",
       "100                                          12.0                  12.0   \n",
       "\n",
       "Administrative Counties  South Dublin County Council  \\\n",
       "Single Year of Age                                     \n",
       "0                                             3544.0   \n",
       "1                                             3673.0   \n",
       "2                                             3734.0   \n",
       "3                                             3856.0   \n",
       "4                                             3870.0   \n",
       "...                                              ...   \n",
       "96                                              41.0   \n",
       "97                                              38.0   \n",
       "98                                              17.0   \n",
       "99                                              17.0   \n",
       "100                                             36.0   \n",
       "\n",
       "Administrative Counties  Tipperary County Council  \\\n",
       "Single Year of Age                                  \n",
       "0                                          1932.0   \n",
       "1                                          1808.0   \n",
       "2                                          1836.0   \n",
       "3                                          2048.0   \n",
       "4                                          2072.0   \n",
       "...                                           ...   \n",
       "96                                           41.0   \n",
       "97                                           33.0   \n",
       "98                                           21.0   \n",
       "99                                           10.0   \n",
       "100                                          23.0   \n",
       "\n",
       "Administrative Counties  Waterford City & County Council  \\\n",
       "Single Year of Age                                         \n",
       "0                                                 1340.0   \n",
       "1                                                 1266.0   \n",
       "2                                                 1329.0   \n",
       "3                                                 1476.0   \n",
       "4                                                 1390.0   \n",
       "...                                                  ...   \n",
       "96                                                  26.0   \n",
       "97                                                  20.0   \n",
       "98                                                  17.0   \n",
       "99                                                  19.0   \n",
       "100                                                 19.0   \n",
       "\n",
       "Administrative Counties  Westmeath County Council  Wexford County Council  \\\n",
       "Single Year of Age                                                          \n",
       "0                                          1129.0                  1792.0   \n",
       "1                                          1158.0                  1724.0   \n",
       "2                                          1108.0                  1835.0   \n",
       "3                                          1148.0                  1864.0   \n",
       "4                                          1208.0                  1941.0   \n",
       "...                                           ...                     ...   \n",
       "96                                           24.0                    42.0   \n",
       "97                                           23.0                    37.0   \n",
       "98                                           11.0                    22.0   \n",
       "99                                            6.0                    21.0   \n",
       "100                                          12.0                    16.0   \n",
       "\n",
       "Administrative Counties  Wicklow County Council  \n",
       "Single Year of Age                               \n",
       "0                                        1710.0  \n",
       "1                                        1682.0  \n",
       "2                                        1796.0  \n",
       "3                                        1862.0  \n",
       "4                                        1897.0  \n",
       "...                                         ...  \n",
       "96                                         38.0  \n",
       "97                                         25.0  \n",
       "98                                         16.0  \n",
       "99                                          8.0  \n",
       "100                                        18.0  \n",
       "\n",
       "[101 rows x 32 columns]"
      ]
     },
     "execution_count": 50,
     "metadata": {},
     "output_type": "execute_result"
    }
   ],
   "source": [
    "df_anal"
   ]
  },
  {
   "cell_type": "code",
   "execution_count": 51,
   "id": "764dd1a1",
   "metadata": {},
   "outputs": [
    {
     "data": {
      "text/plain": [
       "np.float64(2371825.0)"
      ]
     },
     "execution_count": 51,
     "metadata": {},
     "output_type": "execute_result"
    }
   ],
   "source": [
    "cumages = df_anal[district].mul(df_anal.index, axis=0).sum()\n",
    "cumages"
   ]
  },
  {
   "cell_type": "code",
   "execution_count": 52,
   "id": "0f1c5be7",
   "metadata": {},
   "outputs": [
    {
     "data": {
      "text/plain": [
       "np.float64(38.27499677252776)"
      ]
     },
     "execution_count": 52,
     "metadata": {},
     "output_type": "execute_result"
    }
   ],
   "source": [
    "weighted_mean = cumages/number_people\n",
    "weighted_mean"
   ]
  },
  {
   "cell_type": "markdown",
   "id": "7d782785",
   "metadata": {},
   "source": [
    "### Using Numpy:"
   ]
  },
  {
   "cell_type": "code",
   "execution_count": 53,
   "id": "a9ec49b8",
   "metadata": {},
   "outputs": [
    {
     "data": {
      "text/plain": [
       "np.float64(38.27499677252776)"
      ]
     },
     "execution_count": 53,
     "metadata": {},
     "output_type": "execute_result"
    }
   ],
   "source": [
    "import numpy as np\n",
    "w_mean = np.average(df_anal.index, weights=df_anal[district])\n",
    "w_mean"
   ]
  },
  {
   "cell_type": "markdown",
   "id": "9c1ecd6e",
   "metadata": {},
   "source": [
    "### Weighted median\n",
    "\n",
    "Create a series of the cumlative sums and find the index of the middle value"
   ]
  },
  {
   "cell_type": "code",
   "execution_count": 54,
   "id": "ef7ea4f5",
   "metadata": {},
   "outputs": [
    {
     "data": {
      "text/plain": [
       "Single Year of Age\n",
       "0        699.0\n",
       "1       1348.0\n",
       "2       2037.0\n",
       "3       2791.0\n",
       "4       3536.0\n",
       "        ...   \n",
       "96     61940.0\n",
       "97     61951.0\n",
       "98     61958.0\n",
       "99     61965.0\n",
       "100    61968.0\n",
       "Name: Carlow County Council, Length: 101, dtype: float64"
      ]
     },
     "execution_count": 54,
     "metadata": {},
     "output_type": "execute_result"
    }
   ],
   "source": [
    "cumsum = df_anal[district].cumsum()\n",
    "cumsum"
   ]
  },
  {
   "cell_type": "code",
   "execution_count": 55,
   "id": "397fe34a",
   "metadata": {},
   "outputs": [
    {
     "data": {
      "text/plain": [
       "np.float64(30984.0)"
      ]
     },
     "execution_count": 55,
     "metadata": {},
     "output_type": "execute_result"
    }
   ],
   "source": [
    "# sum of all the number of people\n",
    "cutoff = df_anal[district].sum()/2\n",
    "cutoff"
   ]
  },
  {
   "cell_type": "code",
   "execution_count": 56,
   "id": "b2dc734c",
   "metadata": {},
   "outputs": [
    {
     "data": {
      "text/plain": [
       "np.int64(39)"
      ]
     },
     "execution_count": 56,
     "metadata": {},
     "output_type": "execute_result"
    }
   ],
   "source": [
    "df_anal[district][cumsum>=cutoff].index[0]"
   ]
  },
  {
   "cell_type": "markdown",
   "id": "f8ba41d8",
   "metadata": {},
   "source": [
    "### Weighted standard deviation\n",
    "\n",
    "The is the same formula as the normal standard deviation, just with weights applied to the differenced to the weight mean"
   ]
  },
  {
   "cell_type": "code",
   "execution_count": 57,
   "id": "cdc2c1d2",
   "metadata": {},
   "outputs": [
    {
     "data": {
      "text/plain": [
       "np.float64(306.95851591876306)"
      ]
     },
     "execution_count": 57,
     "metadata": {},
     "output_type": "execute_result"
    }
   ],
   "source": [
    "# incorrect way\n",
    "df_anal[district].std()"
   ]
  },
  {
   "cell_type": "code",
   "execution_count": 58,
   "id": "e3c93bec",
   "metadata": {},
   "outputs": [
    {
     "data": {
      "text/plain": [
       "np.float64(613.5445544554456)"
      ]
     },
     "execution_count": 58,
     "metadata": {},
     "output_type": "execute_result"
    }
   ],
   "source": [
    "# incorrect\n",
    "df_anal[district].mean()"
   ]
  },
  {
   "cell_type": "markdown",
   "id": "e43ef31b",
   "metadata": {},
   "source": [
    "We need the weighted std"
   ]
  },
  {
   "cell_type": "code",
   "execution_count": 59,
   "id": "25fb6aa1",
   "metadata": {},
   "outputs": [
    {
     "data": {
      "text/plain": [
       "np.float64(38.27499677252776)"
      ]
     },
     "execution_count": 59,
     "metadata": {},
     "output_type": "execute_result"
    }
   ],
   "source": [
    "import numpy as np\n",
    "w_mean = np.average(df_anal.index, weights=df_anal[district])\n",
    "w_mean"
   ]
  },
  {
   "cell_type": "code",
   "execution_count": 60,
   "id": "2483ab68",
   "metadata": {},
   "outputs": [
    {
     "data": {
      "text/plain": [
       "np.float64(521.6941450425923)"
      ]
     },
     "execution_count": 60,
     "metadata": {},
     "output_type": "execute_result"
    }
   ],
   "source": [
    "w_variance = np.average((df_anal.index - w_mean)**2, weights= df_anal[district])\n",
    "w_variance"
   ]
  },
  {
   "cell_type": "code",
   "execution_count": 61,
   "id": "9cb2222e",
   "metadata": {},
   "outputs": [
    {
     "data": {
      "text/plain": [
       "np.float64(22.84062488292718)"
      ]
     },
     "execution_count": 61,
     "metadata": {},
     "output_type": "execute_result"
    }
   ],
   "source": [
    "w_std = np.sqrt(w_variance)\n",
    "w_std"
   ]
  },
  {
   "cell_type": "markdown",
   "id": "b3767abb",
   "metadata": {},
   "source": [
    "# End"
   ]
  }
 ],
 "metadata": {
  "kernelspec": {
   "display_name": "Python 3",
   "language": "python",
   "name": "python3"
  },
  "language_info": {
   "codemirror_mode": {
    "name": "ipython",
    "version": 3
   },
   "file_extension": ".py",
   "mimetype": "text/x-python",
   "name": "python",
   "nbconvert_exporter": "python",
   "pygments_lexer": "ipython3",
   "version": "3.12.1"
  }
 },
 "nbformat": 4,
 "nbformat_minor": 5
}
